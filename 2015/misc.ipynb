{
 "cells": [
  {
   "cell_type": "code",
   "execution_count": 3,
   "metadata": {},
   "outputs": [
    {
     "data": {
      "text/plain": [
       "94"
      ]
     },
     "execution_count": 3,
     "metadata": {},
     "output_type": "execute_result"
    }
   ],
   "source": [
    "len(\"\"\"A = fileread('t.txt')\n",
    "sum(A == '(') - sum(A == ')')\"\"\") + len(\"\"\"find(cumsum((A == '(') - (A == ')')) == -1)\"\"\")"
   ]
  }
 ],
 "metadata": {
  "interpreter": {
   "hash": "581c253a3486fd815291cee4a21fbc3d65a6898589fdac8b92a28e85efe25c0a"
  },
  "kernelspec": {
   "display_name": "Python 3.10.3 64-bit (windows store)",
   "language": "python",
   "name": "python3"
  },
  "language_info": {
   "codemirror_mode": {
    "name": "ipython",
    "version": 3
   },
   "file_extension": ".py",
   "mimetype": "text/x-python",
   "name": "python",
   "nbconvert_exporter": "python",
   "pygments_lexer": "ipython3",
   "version": "3.10.3"
  },
  "orig_nbformat": 4
 },
 "nbformat": 4,
 "nbformat_minor": 2
}
