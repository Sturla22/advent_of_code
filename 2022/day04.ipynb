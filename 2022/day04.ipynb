{
 "cells": [
  {
   "cell_type": "code",
   "execution_count": 4,
   "metadata": {},
   "outputs": [],
   "source": [
    "import pathlib\n",
    "def parse(data):\n",
    "    return tuple(tuple(tuple(map(int, elf.split(\"-\"))) for elf in line.split(\",\")) for line in data.splitlines())\n",
    "\n",
    "example_data = \"\"\"2-4,6-8\n",
    "2-3,4-5\n",
    "5-7,7-9\n",
    "2-8,3-7\n",
    "6-6,4-6\n",
    "2-6,4-8\"\"\"\n",
    "\n",
    "\n",
    "def d4p1(data):\n",
    "    either_set_contained_in_other = []\n",
    "    for pair in parse(data):\n",
    "        set_a, set_b = (set(range(elf[0], elf[1]+1)) for elf in pair)\n",
    "        either_set_contained_in_other.append(int(set_a.issubset(set_b) or set_a.issuperset(set_b)))\n",
    "    return sum(either_set_contained_in_other)\n",
    "\n",
    "assert d4p1(example_data) == 2\n",
    "\n",
    "assert d4p1(pathlib.Path(\"day04.txt\").read_text()) == 424"
   ]
  },
  {
   "cell_type": "code",
   "execution_count": 5,
   "metadata": {},
   "outputs": [
    {
     "data": {
      "text/plain": [
       "804"
      ]
     },
     "execution_count": 5,
     "metadata": {},
     "output_type": "execute_result"
    }
   ],
   "source": [
    "def d4p2(data):\n",
    "    sets_are_common = []\n",
    "    for pair in parse(data):\n",
    "        set_a, set_b = (set(range(elf[0], elf[1]+1)) for elf in pair)\n",
    "        sets_are_common.append(int(not set_a.isdisjoint(set_b)))\n",
    "    return sum(sets_are_common)\n",
    "\n",
    "assert d4p2(example_data) == 4\n",
    "\n",
    "d4p2(pathlib.Path(\"day04.txt\").read_text())"
   ]
  }
 ],
 "metadata": {
  "interpreter": {
   "hash": "e7370f93d1d0cde622a1f8e1c04877d8463912d04d973331ad4851f04de6915a"
  },
  "kernelspec": {
   "display_name": "Python 3.9.7 64-bit",
   "language": "python",
   "name": "python3"
  },
  "language_info": {
   "codemirror_mode": {
    "name": "ipython",
    "version": 3
   },
   "file_extension": ".py",
   "mimetype": "text/x-python",
   "name": "python",
   "nbconvert_exporter": "python",
   "pygments_lexer": "ipython3",
   "version": "3.9.7"
  },
  "orig_nbformat": 4
 },
 "nbformat": 4,
 "nbformat_minor": 2
}
