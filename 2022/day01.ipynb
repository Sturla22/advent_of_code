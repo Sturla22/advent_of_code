{
 "cells": [
  {
   "cell_type": "code",
   "execution_count": 8,
   "metadata": {},
   "outputs": [
    {
     "data": {
      "text/plain": [
       "204639"
      ]
     },
     "execution_count": 8,
     "metadata": {},
     "output_type": "execute_result"
    }
   ],
   "source": [
    "import pathlib\n",
    "example_input_data = \"\"\"1000\n",
    "2000\n",
    "3000\n",
    "\n",
    "4000\n",
    "\n",
    "5000\n",
    "6000\n",
    "\n",
    "7000\n",
    "8000\n",
    "9000\n",
    "\n",
    "10000\"\"\"\n",
    "\n",
    "def get_total_cals(input_data):\n",
    "   elves = input_data.split(\"\\n\\n\")\n",
    "   return [sum(int(cals) for cals in elf.splitlines()) for elf in elves] \n",
    "\n",
    "def get_max_cals(input_data):\n",
    "    return max(get_total_cals(input_data))\n",
    "    \n",
    "\n",
    "assert get_max_cals(example_input_data) == 24000\n",
    "    \n",
    "assert get_max_cals(pathlib.Path(\"day01.txt\").read_text()) == 71124\n",
    "\n",
    "sum(sorted(get_total_cals(pathlib.Path(\"day01.txt\").read_text()))[-3:])"
   ]
  }
 ],
 "metadata": {
  "kernelspec": {
   "display_name": "Python 3.10.8 64-bit (microsoft store)",
   "language": "python",
   "name": "python3"
  },
  "language_info": {
   "codemirror_mode": {
    "name": "ipython",
    "version": 3
   },
   "file_extension": ".py",
   "mimetype": "text/x-python",
   "name": "python",
   "nbconvert_exporter": "python",
   "pygments_lexer": "ipython3",
   "version": "3.10.8"
  },
  "orig_nbformat": 4,
  "vscode": {
   "interpreter": {
    "hash": "b577571d720b04035f9c00086a9ba93a557006902f81778e825d62b667b13abc"
   }
  }
 },
 "nbformat": 4,
 "nbformat_minor": 2
}
