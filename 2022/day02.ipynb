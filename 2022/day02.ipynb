{
 "cells": [
  {
   "cell_type": "code",
   "execution_count": 8,
   "metadata": {},
   "outputs": [],
   "source": [
    "import pathlib\n",
    "\n",
    "example_input = \"\"\"A Y\n",
    "B X\n",
    "C Z\n",
    "\"\"\"\n",
    "\n",
    "\n",
    "normalize = {\n",
    "    \"X\":\"A\",\n",
    "    \"Y\":\"B\",\n",
    "    \"Z\":\"C\",\n",
    "}\n",
    "scores = {\n",
    "    \"X\": 1, # Rock\n",
    "    \"Y\": 2, # Paper\n",
    "    \"Z\": 3, # Scissors\n",
    "    \"A\": 1, # Rock\n",
    "    \"B\": 2, # Paper\n",
    "    \"C\": 3, # Scissors\n",
    "}\n",
    "\n",
    "def compete(opponent, me):\n",
    "    my_score = scores[me]\n",
    "    me = normalize[me]\n",
    "    if opponent == me:\n",
    "        return 3+my_score # draw\n",
    "    if (opponent == \"A\" and me == \"C\") or (opponent == \"C\" and me == \"B\") or (opponent == \"B\" and me == \"A\"):\n",
    "        return my_score # loss\n",
    "    else:\n",
    "        return 6+my_score # win\n",
    "\n",
    "def get_total_score(input_data):\n",
    "    return sum([compete(*line.split(\" \")) for line in input_data.splitlines()])\n",
    "\n",
    "assert get_total_score(example_input) == 15\n",
    "\n",
    "assert get_total_score(pathlib.Path(\"day02.txt\").read_text()) == 13221\n"
   ]
  },
  {
   "cell_type": "code",
   "execution_count": 13,
   "metadata": {},
   "outputs": [
    {
     "data": {
      "text/plain": [
       "13131"
      ]
     },
     "execution_count": 13,
     "metadata": {},
     "output_type": "execute_result"
    }
   ],
   "source": [
    "scores = {\n",
    "    \"A\": 1, # Rock\n",
    "    \"B\": 2, # Paper\n",
    "    \"C\": 3, # Scissors\n",
    "}\n",
    "\n",
    "win = {\n",
    "    \"A\": \"B\",\n",
    "    \"C\": \"A\",\n",
    "    \"B\": \"C\"\n",
    "}\n",
    "lose = {\n",
    "    \"C\":\"B\",\n",
    "    \"B\":\"A\",\n",
    "    \"A\":\"C\",\n",
    "}\n",
    "\n",
    "def strategize(opponent, outcome):\n",
    "    if outcome == \"X\":\n",
    "        return scores[lose[opponent]] + 0\n",
    "    elif outcome == \"Z\":\n",
    "        return scores[win[opponent]] + 6\n",
    "    return scores[opponent] + 3 # draw\n",
    "    \n",
    "def day02_part2(input_data):\n",
    "    return sum([strategize(*line.split(\" \")) for line in input_data.splitlines()])\n",
    "    \n",
    "assert day02_part2(example_input) == 12\n",
    "\n",
    "day02_part2(pathlib.Path(\"day02.txt\").read_text())"
   ]
  },
  {
   "cell_type": "markdown",
   "metadata": {},
   "source": []
  }
 ],
 "metadata": {
  "kernelspec": {
   "display_name": "Python 3.10.8 64-bit (microsoft store)",
   "language": "python",
   "name": "python3"
  },
  "language_info": {
   "codemirror_mode": {
    "name": "ipython",
    "version": 3
   },
   "file_extension": ".py",
   "mimetype": "text/x-python",
   "name": "python",
   "nbconvert_exporter": "python",
   "pygments_lexer": "ipython3",
   "version": "3.10.8"
  },
  "orig_nbformat": 4,
  "vscode": {
   "interpreter": {
    "hash": "b577571d720b04035f9c00086a9ba93a557006902f81778e825d62b667b13abc"
   }
  }
 },
 "nbformat": 4,
 "nbformat_minor": 2
}
