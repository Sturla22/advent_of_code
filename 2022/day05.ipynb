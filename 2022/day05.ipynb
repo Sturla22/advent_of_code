{
 "cells": [
  {
   "cell_type": "code",
   "execution_count": 7,
   "metadata": {},
   "outputs": [],
   "source": [
    "import re\n",
    "from collections import defaultdict\n",
    "import pathlib\n",
    "\n",
    "example_input = \"\"\"\n",
    "    [D]    \n",
    "[N] [C]    \n",
    "[Z] [M] [P]\n",
    " 1   2   3 \n",
    "\n",
    "move 1 from 2 to 1\n",
    "move 3 from 1 to 3\n",
    "move 2 from 2 to 1\n",
    "move 1 from 1 to 2\"\"\"\n",
    "\n",
    "\n",
    "def parse(data):\n",
    "    text_stacks, procedures = map(str.splitlines, data.split(\"\\n\\n\"))\n",
    "\n",
    "    stacks = defaultdict(list)\n",
    "    for level in text_stacks[:-1]:\n",
    "        for i, stack in enumerate(level[1::2][::2]):\n",
    "            if stack.strip():\n",
    "                stacks[i + 1].append(stack)\n",
    "    return (\n",
    "        map(lambda procedure: map(int, re.findall(r\"(\\d+)\", procedure)), procedures),\n",
    "        stacks,\n",
    "    )\n",
    "\n",
    "\n",
    "def d5_p1(data):\n",
    "    procedures, stacks = parse(data)\n",
    "    for procedure in procedures:\n",
    "        move, start, end = procedure\n",
    "        for _ in range(move):\n",
    "            stacks[end].insert(0, stacks[start].pop(0))\n",
    "    return \"\".join(stacks[stack][0] for stack in sorted(stacks))\n",
    "\n",
    "\n",
    "assert d5_p1(example_input) == \"CMZ\"\n",
    "\n",
    "assert d5_p1(pathlib.Path(\"day05.txt\").read_text()) == \"JRVNHHCSJ\"\n"
   ]
  },
  {
   "cell_type": "code",
   "execution_count": 9,
   "metadata": {},
   "outputs": [],
   "source": [
    "def d5_p2(data):\n",
    "    procedures, stacks = parse(data)\n",
    "    for procedure in procedures:\n",
    "        move, start, end = procedure\n",
    "        moving_crates = [stacks[start].pop(0) for _ in range(move)]\n",
    "        for crate in reversed(moving_crates):\n",
    "            stacks[end].insert(0, crate)\n",
    "    return \"\".join(stacks[stack][0] for stack in sorted(stacks))\n",
    "\n",
    "\n",
    "assert (res := d5_p2(example_input)) == \"MCD\", f\"{res=}\"\n",
    "\n",
    "assert d5_p2(pathlib.Path(\"day05.txt\").read_text()) == \"GNFBSBJLH\"\n"
   ]
  }
 ],
 "metadata": {
  "kernelspec": {
   "display_name": "Python 3.10.8 64-bit (microsoft store)",
   "language": "python",
   "name": "python3"
  },
  "language_info": {
   "codemirror_mode": {
    "name": "ipython",
    "version": 3
   },
   "file_extension": ".py",
   "mimetype": "text/x-python",
   "name": "python",
   "nbconvert_exporter": "python",
   "pygments_lexer": "ipython3",
   "version": "3.10.8"
  },
  "orig_nbformat": 4,
  "vscode": {
   "interpreter": {
    "hash": "b577571d720b04035f9c00086a9ba93a557006902f81778e825d62b667b13abc"
   }
  }
 },
 "nbformat": 4,
 "nbformat_minor": 2
}
