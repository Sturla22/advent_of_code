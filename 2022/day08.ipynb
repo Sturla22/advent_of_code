{
 "cells": [
  {
   "cell_type": "code",
   "execution_count": 143,
   "metadata": {},
   "outputs": [],
   "source": [
    "import pathlib\n",
    "from itertools import product\n",
    "from functools import partial, reduce\n",
    "from operator import __mul__\n",
    "\n",
    "example_input = \"\"\"30373\n",
    "25512\n",
    "65332\n",
    "33549\n",
    "35390\"\"\"\n",
    "\n",
    "\n",
    "def lmap(f, i):\n",
    "    return list(map(f, i))\n",
    "\n",
    "\n",
    "def is_visible(rows, p):\n",
    "    row, col = p\n",
    "    tree = rows[row][col]\n",
    "    right_trees = rows[row][col + 1 :]\n",
    "    left_trees = rows[row][:col]\n",
    "    top_trees = (r[col] for r in rows[row + 1 :])\n",
    "    bot_trees = (r[col] for r in rows[:row])\n",
    "    return any(\n",
    "        [\n",
    "            tree > other_trees\n",
    "            for other_trees in map(max, (left_trees, right_trees, bot_trees, top_trees))\n",
    "        ]\n",
    "    )\n",
    "\n",
    "\n",
    "def p1(data):\n",
    "    rows = lmap(lambda l: lmap(int, l), data.splitlines())\n",
    "    width = len(rows) - 1\n",
    "    visible = (width) * 4 + sum(\n",
    "        map(int, map(partial(is_visible, rows), product(range(1, width), repeat=2)))\n",
    "    )\n",
    "    return visible\n",
    "\n",
    "\n",
    "assert (res := p1(example_input)) == 21, f\"{res=}\"\n",
    "\n",
    "assert p1(pathlib.Path(\"day08.txt\").read_text()) == 1823\n"
   ]
  },
  {
   "cell_type": "code",
   "execution_count": 139,
   "metadata": {},
   "outputs": [
    {
     "data": {
      "text/plain": [
       "812592"
      ]
     },
     "execution_count": 139,
     "metadata": {},
     "output_type": "execute_result"
    }
   ],
   "source": [
    "def bigger(tree, other):\n",
    "    total = 0\n",
    "    for t in other:\n",
    "        total += 1\n",
    "        if tree <= t:\n",
    "            break\n",
    "    return total\n",
    "\n",
    "\n",
    "def score_tree(rows, row, col):\n",
    "    tree = rows[row][col]\n",
    "    right_trees = rows[row][col + 1 :]\n",
    "    left_trees = rows[row][:col][::-1]\n",
    "    trees_below = [r[col] for r in rows[row + 1 :]][::-1]\n",
    "    trees_above = [r[col] for r in rows[:row]]\n",
    "    return reduce(\n",
    "        __mul__,\n",
    "        map(partial(bigger, tree), (trees_above, left_trees, trees_below, right_trees)),\n",
    "    )\n",
    "\n",
    "\n",
    "def p2(data):\n",
    "    rows = lmap(lambda l: lmap(int, l), data.splitlines())\n",
    "    return max(\n",
    "        score_tree(rows, row, col)\n",
    "        for row, col in product(range(1, len(rows) - 1), repeat=2)\n",
    "    )\n",
    "\n",
    "\n",
    "rows = lmap(lambda l: lmap(int, l), example_input.splitlines())\n",
    "assert score_tree(rows, 1, 2) == 4\n",
    "assert score_tree(rows, 3, 2) == 8\n",
    "\n",
    "assert (res := p2(example_input)) == 8, f\"{res=}\"\n",
    "\n",
    "# assert p2(pathlib.Path(\"day08.txt\").read_text()) != 812592\n",
    "p2(pathlib.Path(\"day08.txt\").read_text())\n"
   ]
  }
 ],
 "metadata": {
  "interpreter": {
   "hash": "e7370f93d1d0cde622a1f8e1c04877d8463912d04d973331ad4851f04de6915a"
  },
  "kernelspec": {
   "display_name": "Python 3 (ipykernel)",
   "language": "python",
   "name": "python3"
  },
  "language_info": {
   "name": "python",
   "version": "3.9.7"
  },
  "orig_nbformat": 4,
  "vscode": {
   "interpreter": {
    "hash": "b577571d720b04035f9c00086a9ba93a557006902f81778e825d62b667b13abc"
   }
  }
 },
 "nbformat": 4,
 "nbformat_minor": 2
}
