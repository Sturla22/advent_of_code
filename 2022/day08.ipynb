{
 "cells": [
  {
   "cell_type": "code",
   "execution_count": 55,
   "metadata": {},
   "outputs": [
    {
     "data": {
      "text/plain": [
       "7279"
      ]
     },
     "execution_count": 55,
     "metadata": {},
     "output_type": "execute_result"
    }
   ],
   "source": [
    "import pathlib\n",
    "\n",
    "example_input = \"\"\"30373\n",
    "25512\n",
    "65332\n",
    "33549\n",
    "35390\"\"\"\n",
    "\n",
    "\n",
    "def p1(data):\n",
    "    visible = set()\n",
    "    rows = data.splitlines()\n",
    "    for y, row in enumerate(rows):\n",
    "        last_tree_left = 10\n",
    "        last_tree_right = 10\n",
    "        for x, tree in enumerate(row):\n",
    "            tree = int(tree)\n",
    "            if tree < last_tree_left:\n",
    "                visible.add((x,y))\n",
    "            last_tree_left = tree\n",
    "\n",
    "            x = (len(row)-1) - x\n",
    "            if tree < last_tree_right:\n",
    "                visible.add((x,y))\n",
    "            last_tree_right = tree\n",
    "    for x in range(len(rows[0])):\n",
    "        last_tree_top = 10\n",
    "        last_tree_bot = 10\n",
    "        for y in range(len(rows)):\n",
    "            tree = int(rows[y][x])\n",
    "            if tree < last_tree_top:\n",
    "                visible.add((x,y))\n",
    "            last_tree_top = tree\n",
    "\n",
    "            x = (len(rows)-1) - x\n",
    "            tree = int(rows[y][x])\n",
    "            if tree < last_tree_bot:\n",
    "                visible.add((x,y))\n",
    "            last_tree_bot = tree\n",
    "    return len(visible)\n",
    "\n",
    "\n",
    "assert (res := p1(example_input)) == 21, f\"{res=}\"\n",
    "\n",
    "p1(pathlib.Path(\"day08.txt\").read_text())\n"
   ]
  },
  {
   "cell_type": "code",
   "execution_count": 2,
   "metadata": {},
   "outputs": [],
   "source": [
    "def p2(data):\n",
    "    return 2\n",
    "\n",
    "assert (res := p2(\"2\")) == 2, f\"{res=}\"\n",
    "\n",
    "# p2(pathlib.Path(\"day07.txt\").read_text())"
   ]
  },
  {
   "cell_type": "code",
   "execution_count": 52,
   "metadata": {},
   "outputs": [
    {
     "name": "stdout",
     "output_type": "stream",
     "text": [
      "0 3 0 3\n",
      "0 3 0 2\n",
      "0 3 0 2\n",
      "0 3 0 9\n",
      "0 3 0 0\n",
      "0 3 0 7\n",
      "0 3 0 1\n",
      "0 3 0 3\n",
      "0 3 0 4\n",
      "0 3 0 9\n",
      "0 3 0 3\n",
      "0 3 0 5\n",
      "0 3 0 3\n",
      "0 3 0 5\n",
      "0 3 0 3\n",
      "0 3 0 0\n",
      "0 3 0 5\n",
      "0 3 0 5\n",
      "0 3 0 3\n",
      "0 3 0 5\n",
      "0 3 0 3\n",
      "0 3 0 2\n",
      "0 3 0 6\n",
      "0 3 0 3\n",
      "0 3 0 3\n"
     ]
    },
    {
     "data": {
      "text/plain": [
       "19"
      ]
     },
     "execution_count": 52,
     "metadata": {},
     "output_type": "execute_result"
    }
   ],
   "source": [
    "rows = [[int(tree) for tree in line] for line in example_input.splitlines()]\n",
    "width = len(rows)\n",
    "visible = set()\n",
    "last_tree = {\n",
    "    \"left\": 10,\n",
    "    \"right\": 10,\n",
    "    \"top\": 10,\n",
    "    \"bottom\": 10\n",
    "}\n",
    "for i in range(width):\n",
    "    for j in range(width):\n",
    "        left_tree = rows[i][j]\n",
    "        if left_tree >= last_tree[\"left\"]:\n",
    "            visible.add((i,j))\n",
    "        last_tree[\"left\"] = left_tree\n",
    "\n",
    "for i in range(width):\n",
    "    for j in range(width):\n",
    "        right_tree = rows[i][(width - 1) - j]\n",
    "        if right_tree >= last_tree[\"right\"]:\n",
    "            visible.add((i,(width - 1) - j))\n",
    "        last_tree[\"right\"] = right_tree\n",
    "\n",
    "for i in range(width):\n",
    "    for j in range(width):\n",
    "        top_tree = rows[j][i]\n",
    "        if top_tree >= last_tree[\"top\"]:\n",
    "            visible.add((j,i))\n",
    "        last_tree[\"top\"] = top_tree\n",
    "\n",
    "for i in range(width):\n",
    "    for j in range(width):\n",
    "        bottom_tree = rows[j][(width -1) - i]\n",
    "        if bottom_tree >= last_tree[\"bottom\"]:\n",
    "            visible.add((j,(width - 1) - i))\n",
    "        last_tree[\"bottom\"] = bottom_tree\n",
    "        print(left_tree, right_tree, top_tree, bottom_tree)\n",
    "len(visible)"
   ]
  },
  {
   "cell_type": "code",
   "execution_count": 51,
   "metadata": {},
   "outputs": [
    {
     "data": {
      "text/plain": [
       "17"
      ]
     },
     "execution_count": 51,
     "metadata": {},
     "output_type": "execute_result"
    }
   ],
   "source": [
    "# Chat GPT\n",
    "\n",
    "import numpy as np\n",
    "\n",
    "def get_visible_trees(data):\n",
    "    visible_trees = 0\n",
    "    for i in range(data.shape[0]):\n",
    "        for j in range(data.shape[1]):\n",
    "            if data[i,j] == 0:\n",
    "                continue\n",
    "            if i == 0 or j == 0 or i == data.shape[0] - 1 or j == data.shape[1] - 1:\n",
    "                visible_trees += 1\n",
    "            else:\n",
    "                if data[i-1,j] < data[i,j] and data[i+1,j] < data[i,j] and data[i,j-1] < data[i,j] and data[i,j+1] < data[i,j]:\n",
    "                    visible_trees += 1\n",
    "    return visible_trees\n",
    "\n",
    "get_visible_trees(np.array([[x for x in line] for line in example_input.splitlines()]))"
   ]
  }
 ],
 "metadata": {
  "kernelspec": {
   "display_name": "Python 3.10.8 64-bit (microsoft store)",
   "language": "python",
   "name": "python3"
  },
  "language_info": {
   "codemirror_mode": {
    "name": "ipython",
    "version": 3
   },
   "file_extension": ".py",
   "mimetype": "text/x-python",
   "name": "python",
   "nbconvert_exporter": "python",
   "pygments_lexer": "ipython3",
   "version": "3.10.8"
  },
  "orig_nbformat": 4,
  "vscode": {
   "interpreter": {
    "hash": "b577571d720b04035f9c00086a9ba93a557006902f81778e825d62b667b13abc"
   }
  }
 },
 "nbformat": 4,
 "nbformat_minor": 2
}
