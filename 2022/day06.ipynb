{
 "cells": [
  {
   "cell_type": "code",
   "execution_count": 15,
   "metadata": {},
   "outputs": [
    {
     "data": {
      "text/plain": [
       "1300"
      ]
     },
     "execution_count": 15,
     "metadata": {},
     "output_type": "execute_result"
    }
   ],
   "source": [
    "import pathlib\n",
    "\n",
    "example_input_1 = \"mjqjpqmgbljsphdztnvjfqwrcgsmlb\"\n",
    "example_input_2 = \"bvwbjplbgvbhsrlpgdmjqwftvncz\"\n",
    "example_input_3 = \"nppdvjthqldpwncqszvftbrmjlhg\"\n",
    "example_input_4 = \"nznrnfrfntjfmvfwmzdfjlvtqnbhcprsg\"\n",
    "example_input_5 = \"zcfzfwzzqfrljwzlrfnpqdbhtmscgvjw\"\n",
    "\n",
    "\n",
    "def p1(data):\n",
    "    return get_unique(data, 4)\n",
    "\n",
    "def get_unique(data, length):\n",
    "    i = 0\n",
    "    letters = []\n",
    "    while len(set(letters)) < length:\n",
    "        letters = data[i:i+length]\n",
    "        i+=1\n",
    "    return i+(length-1)\n",
    "\n",
    "assert p1(example_input_1) == 7\n",
    "assert p1(example_input_2) == 5\n",
    "assert p1(example_input_3) == 6\n",
    "assert p1(example_input_4) == 10\n",
    "assert p1(example_input_5) == 11\n",
    "\n",
    "assert p1(pathlib.Path(\"day06.txt\").read_text()) == 1300\n"
   ]
  },
  {
   "cell_type": "code",
   "execution_count": 17,
   "metadata": {},
   "outputs": [],
   "source": [
    "def p2(data):\n",
    "    return get_unique(data, 14)\n",
    "\n",
    "assert (res := p2(example_input_1)) == 19, f\"{res=}\"\n",
    "\n",
    "assert p2(pathlib.Path(\"day06.txt\").read_text()) == 3986"
   ]
  }
 ],
 "metadata": {
  "kernelspec": {
   "display_name": "Python 3.10.8 64-bit (microsoft store)",
   "language": "python",
   "name": "python3"
  },
  "language_info": {
   "codemirror_mode": {
    "name": "ipython",
    "version": 3
   },
   "file_extension": ".py",
   "mimetype": "text/x-python",
   "name": "python",
   "nbconvert_exporter": "python",
   "pygments_lexer": "ipython3",
   "version": "3.10.8"
  },
  "orig_nbformat": 4,
  "vscode": {
   "interpreter": {
    "hash": "b577571d720b04035f9c00086a9ba93a557006902f81778e825d62b667b13abc"
   }
  }
 },
 "nbformat": 4,
 "nbformat_minor": 2
}
