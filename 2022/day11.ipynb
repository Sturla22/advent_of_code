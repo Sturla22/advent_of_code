{
 "cells": [
  {
   "cell_type": "code",
   "execution_count": 81,
   "metadata": {},
   "outputs": [
    {
     "data": {
      "text/plain": [
       "13184145"
      ]
     },
     "execution_count": 81,
     "metadata": {},
     "output_type": "execute_result"
    }
   ],
   "source": [
    "import pathlib\n",
    "import re\n",
    "from operator import __mul__\n",
    "from functools import reduce\n",
    "\n",
    "example_input = \"\"\"Monkey 0:\n",
    "  Starting items: 79, 98\n",
    "  Operation: new = old * 19\n",
    "  Test: divisible by 23\n",
    "    If true: throw to monkey 2\n",
    "    If false: throw to monkey 3\n",
    "\n",
    "Monkey 1:\n",
    "  Starting items: 54, 65, 75, 74\n",
    "  Operation: new = old + 6\n",
    "  Test: divisible by 19\n",
    "    If true: throw to monkey 2\n",
    "    If false: throw to monkey 0\n",
    "\n",
    "Monkey 2:\n",
    "  Starting items: 79, 60, 97\n",
    "  Operation: new = old * old\n",
    "  Test: divisible by 13\n",
    "    If true: throw to monkey 1\n",
    "    If false: throw to monkey 3\n",
    "\n",
    "Monkey 3:\n",
    "  Starting items: 74\n",
    "  Operation: new = old + 3\n",
    "  Test: divisible by 17\n",
    "    If true: throw to monkey 0\n",
    "    If false: throw to monkey 1\"\"\"\n",
    "\n",
    "\n",
    "def simulate_monkey_business(data, N, reduce_worry=3):\n",
    "    monkeys = []\n",
    "    for monkey in data.split(\"\\n\\n\"):\n",
    "        info = {\"inspected\": 0}\n",
    "        info[\"id\"] = int(re.search(r\"Monkey (\\d+):\", monkey).group(1))\n",
    "        info[\"items\"] = list(map(int, re.search(r\"Starting items: ([\\d, ]+)\", monkey).group(1).split(\", \")))\n",
    "        info[\"op\"] = re.search(r\"Operation: new = (old .*)\", monkey).group(1)\n",
    "        info[\"test_div_by\"] = int(re.search(r\"Test: divisible by (\\d+)\", monkey).group(1))\n",
    "        info[\"actions\"] = [int(re.search(r\"If false: throw to monkey (\\d+)\", monkey).group(1)), int(re.search(r\"If true: throw to monkey (\\d+)\", monkey).group(1))]\n",
    "        monkeys.append(info)\n",
    "\n",
    "    for _ in range(N):\n",
    "        for i, monkey in enumerate(monkeys):\n",
    "            for item in monkey[\"items\"]:\n",
    "                item = eval(monkey[\"op\"], {'old': item}) // reduce_worry\n",
    "                throw_to = monkey[\"actions\"][int(item % monkey[\"test_div_by\"] == 0)]\n",
    "                monkeys[throw_to][\"items\"].append(item)\n",
    "                monkey[\"inspected\"] += 1\n",
    "                monkey[\"items\"] = []\n",
    "    monkey_business = reduce(__mul__, sorted(list(map(lambda m: m[\"inspected\"], monkeys)))[-2:])\n",
    "    return monkey_business\n",
    "\n",
    "def p1(data):\n",
    "    return simulate_monkey_business(data, 20, 3)\n",
    "\n",
    "assert (res := p1(example_input)) == 10605, f\"{res=}\"\n",
    "\n",
    "assert p1(pathlib.Path(\"day11.txt\").read_text()) == 182293\n",
    "\n",
    "\n",
    "simulate_monkey_business(example_input, 700, 1)"
   ]
  },
  {
   "cell_type": "code",
   "execution_count": 60,
   "metadata": {},
   "outputs": [
    {
     "ename": "KeyboardInterrupt",
     "evalue": "",
     "output_type": "error",
     "traceback": [
      "\u001b[0;31m---------------------------------------------------------------------------\u001b[0m",
      "\u001b[0;31mKeyboardInterrupt\u001b[0m                         Traceback (most recent call last)",
      "Cell \u001b[0;32mIn[60], line 4\u001b[0m\n\u001b[1;32m      1\u001b[0m \u001b[38;5;28;01mdef\u001b[39;00m \u001b[38;5;21mp2\u001b[39m(data):\n\u001b[1;32m      2\u001b[0m     \u001b[38;5;28;01mreturn\u001b[39;00m simulate_monkey_business(data, \u001b[38;5;241m10000\u001b[39m, \u001b[38;5;241m1\u001b[39m)\n\u001b[0;32m----> 4\u001b[0m \u001b[38;5;28;01massert\u001b[39;00m (res \u001b[38;5;241m:=\u001b[39m \u001b[43mp2\u001b[49m\u001b[43m(\u001b[49m\u001b[43mexample_input\u001b[49m\u001b[43m)\u001b[49m) \u001b[38;5;241m==\u001b[39m \u001b[38;5;241m2713310158\u001b[39m, \u001b[38;5;124mf\u001b[39m\u001b[38;5;124m\"\u001b[39m\u001b[38;5;132;01m{\u001b[39;00mres\u001b[38;5;132;01m=}\u001b[39;00m\u001b[38;5;124m\"\u001b[39m\n\u001b[1;32m      6\u001b[0m \u001b[38;5;66;03m# p2(pathlib.Path(\"day11.txt\").read_text())\u001b[39;00m\n",
      "Cell \u001b[0;32mIn[60], line 2\u001b[0m, in \u001b[0;36mp2\u001b[0;34m(data)\u001b[0m\n\u001b[1;32m      1\u001b[0m \u001b[38;5;28;01mdef\u001b[39;00m \u001b[38;5;21mp2\u001b[39m(data):\n\u001b[0;32m----> 2\u001b[0m     \u001b[38;5;28;01mreturn\u001b[39;00m \u001b[43msimulate_monkey_business\u001b[49m\u001b[43m(\u001b[49m\u001b[43mdata\u001b[49m\u001b[43m,\u001b[49m\u001b[43m \u001b[49m\u001b[38;5;241;43m10000\u001b[39;49m\u001b[43m,\u001b[49m\u001b[43m \u001b[49m\u001b[38;5;241;43m1\u001b[39;49m\u001b[43m)\u001b[49m\n",
      "Cell \u001b[0;32mIn[59], line 52\u001b[0m, in \u001b[0;36msimulate_monkey_business\u001b[0;34m(data, N, reduce_worry)\u001b[0m\n\u001b[1;32m     49\u001b[0m \u001b[38;5;28;01mfor\u001b[39;00m item \u001b[38;5;129;01min\u001b[39;00m monkey[\u001b[38;5;124m\"\u001b[39m\u001b[38;5;124mitems\u001b[39m\u001b[38;5;124m\"\u001b[39m]:\n\u001b[1;32m     50\u001b[0m     \u001b[38;5;66;03m# print(\"  Monkey inspects an item with a worry level of\", item)\u001b[39;00m\n\u001b[1;32m     51\u001b[0m     item \u001b[38;5;241m=\u001b[39m \u001b[38;5;28meval\u001b[39m(monkey[\u001b[38;5;124m\"\u001b[39m\u001b[38;5;124mop\u001b[39m\u001b[38;5;124m\"\u001b[39m], {\u001b[38;5;124m'\u001b[39m\u001b[38;5;124mold\u001b[39m\u001b[38;5;124m'\u001b[39m: item}) \u001b[38;5;241m/\u001b[39m\u001b[38;5;241m/\u001b[39m reduce_worry\n\u001b[0;32m---> 52\u001b[0m     throw_to \u001b[38;5;241m=\u001b[39m monkey[\u001b[38;5;124m\"\u001b[39m\u001b[38;5;124mactions\u001b[39m\u001b[38;5;124m\"\u001b[39m][\u001b[38;5;28mint\u001b[39m(\u001b[43mitem\u001b[49m\u001b[43m \u001b[49m\u001b[38;5;241;43m%\u001b[39;49m\u001b[43m \u001b[49m\u001b[43mmonkey\u001b[49m\u001b[43m[\u001b[49m\u001b[38;5;124;43m\"\u001b[39;49m\u001b[38;5;124;43mtest_div_by\u001b[39;49m\u001b[38;5;124;43m\"\u001b[39;49m\u001b[43m]\u001b[49m \u001b[38;5;241m==\u001b[39m \u001b[38;5;241m0\u001b[39m)]\n\u001b[1;32m     53\u001b[0m     monkeys[throw_to][\u001b[38;5;124m\"\u001b[39m\u001b[38;5;124mitems\u001b[39m\u001b[38;5;124m\"\u001b[39m]\u001b[38;5;241m.\u001b[39mappend(item)\n\u001b[1;32m     54\u001b[0m     \u001b[38;5;66;03m# print(\"    Item with worry level\", item, \"is thrown to:\", throw_to)\u001b[39;00m\n",
      "\u001b[0;31mKeyboardInterrupt\u001b[0m: "
     ]
    }
   ],
   "source": [
    "def p2(data):\n",
    "    return simulate_monkey_business(data, 10_000, 1)\n",
    "\n",
    "assert (res := p2(example_input)) == 2713310158, f\"{res=}\"\n",
    "\n",
    "# p2(pathlib.Path(\"day11.txt\").read_text())"
   ]
  }
 ],
 "metadata": {
  "kernelspec": {
   "display_name": "Python 3.10.8 64-bit (microsoft store)",
   "language": "python",
   "name": "python3"
  },
  "language_info": {
   "codemirror_mode": {
    "name": "ipython",
    "version": 3
   },
   "file_extension": ".py",
   "mimetype": "text/x-python",
   "name": "python",
   "nbconvert_exporter": "python",
   "pygments_lexer": "ipython3",
   "version": "3.10.8"
  },
  "orig_nbformat": 4,
  "vscode": {
   "interpreter": {
    "hash": "b577571d720b04035f9c00086a9ba93a557006902f81778e825d62b667b13abc"
   }
  }
 },
 "nbformat": 4,
 "nbformat_minor": 2
}
