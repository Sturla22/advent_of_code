{
 "cells": [
  {
   "cell_type": "code",
   "execution_count": 45,
   "metadata": {},
   "outputs": [
    {
     "name": "stdout",
     "output_type": "stream",
     "text": [
      "monkey 0 inspected items 101 times\n",
      "monkey 1 inspected items 95 times\n",
      "monkey 2 inspected items 7 times\n",
      "monkey 3 inspected items 105 times\n"
     ]
    },
    {
     "data": {
      "text/plain": [
       "7052325"
      ]
     },
     "execution_count": 45,
     "metadata": {},
     "output_type": "execute_result"
    }
   ],
   "source": [
    "import pathlib\n",
    "import re\n",
    "from operator import __mul__\n",
    "from functools import reduce\n",
    "\n",
    "example_input = \"\"\"Monkey 0:\n",
    "  Starting items: 79, 98\n",
    "  Operation: new = old * 19\n",
    "  Test: divisible by 23\n",
    "    If true: throw to monkey 2\n",
    "    If false: throw to monkey 3\n",
    "\n",
    "Monkey 1:\n",
    "  Starting items: 54, 65, 75, 74\n",
    "  Operation: new = old + 6\n",
    "  Test: divisible by 19\n",
    "    If true: throw to monkey 2\n",
    "    If false: throw to monkey 0\n",
    "\n",
    "Monkey 2:\n",
    "  Starting items: 79, 60, 97\n",
    "  Operation: new = old * old\n",
    "  Test: divisible by 13\n",
    "    If true: throw to monkey 1\n",
    "    If false: throw to monkey 3\n",
    "\n",
    "Monkey 3:\n",
    "  Starting items: 74\n",
    "  Operation: new = old + 3\n",
    "  Test: divisible by 17\n",
    "    If true: throw to monkey 0\n",
    "    If false: throw to monkey 1\"\"\"\n",
    "\n",
    "def p1(data):\n",
    "    return 1\n",
    "\n",
    "assert (res := p1(example_input)) == 1, f\"{res=}\"\n",
    "\n",
    "# p1(pathlib.Path(\"day11.txt\").read_text())\n",
    "\n",
    "monkeys = []\n",
    "for monkey in example_input.split(\"\\n\\n\"):\n",
    "    info = {\"inspected\": 0}\n",
    "    info[\"id\"] = int(re.search(r\"Monkey (\\d+):\", monkey).group(1))\n",
    "    info[\"items\"] = list(map(int, re.search(r\"Starting items: ([\\d, ]+)\", monkey).group(1).split(\", \")))\n",
    "    info[\"op\"] = re.search(r\"Operation: new = (old .*)\", monkey).group(1)\n",
    "    info[\"test_div_by\"] = int(re.search(r\"Test: divisible by (\\d+)\", monkey).group(1))\n",
    "    info[\"actions\"] = [int(re.search(r\"If false: throw to monkey (\\d+)\", monkey).group(1)), int(re.search(r\"If true: throw to monkey (\\d+)\", monkey).group(1))]\n",
    "    monkeys.append(info)\n",
    "\n",
    "for n in range(20):\n",
    "    for i, monkey in enumerate(monkeys):\n",
    "        # print(\"Monkey\", i)\n",
    "        for item in monkey[\"items\"]:\n",
    "            # print(\"  Monkey inspects an item with a worry level of\", item)\n",
    "            item = eval(monkey[\"op\"], {'old': item}) // 3\n",
    "            throw_to = monkey[\"actions\"][int(item % monkey[\"test_div_by\"] == 0)]\n",
    "            monkeys[throw_to][\"items\"].append(item)\n",
    "            # print(\"    Item with worry level\", item, \"is thrown to:\", throw_to)\n",
    "            monkey[\"inspected\"] += 1\n",
    "            monkey[\"items\"] = []\n",
    "    # print(f\"After round {n}\")\n",
    "    # for monkey in monkeys:\n",
    "        # print(f\"monkey {monkey['id']}: {monkey['items']}\")\n",
    "monkey_business =\n",
    "for monkey in monkeys:\n",
    "    inspected = monkey['inspected']\n",
    "    print(f\"monkey {monkey['id']} inspected items {inspected} times\")\n",
    "    monkey_business *= inspected\n",
    "monkey_business = reduce(__mul__, sorted(list(map(lambda m: m[\"inspected\"], monkeys))))\n"
   ]
  },
  {
   "cell_type": "code",
   "execution_count": 2,
   "metadata": {},
   "outputs": [],
   "source": [
    "def p2(data):\n",
    "    return 2\n",
    "\n",
    "assert (res := p2(\"2\")) == 2, f\"{res=}\"\n",
    "\n",
    "# p2(pathlib.Path(\"day11.txt\").read_text())"
   ]
  }
 ],
 "metadata": {
  "interpreter": {
   "hash": "e7370f93d1d0cde622a1f8e1c04877d8463912d04d973331ad4851f04de6915a"
  },
  "kernelspec": {
   "display_name": "Python 3.9.7 64-bit",
   "language": "python",
   "name": "python3"
  },
  "language_info": {
   "codemirror_mode": {
    "name": "ipython",
    "version": 3
   },
   "file_extension": ".py",
   "mimetype": "text/x-python",
   "name": "python",
   "nbconvert_exporter": "python",
   "pygments_lexer": "ipython3",
   "version": "3.9.7"
  },
  "orig_nbformat": 4,
  "vscode": {
   "interpreter": {
    "hash": "b577571d720b04035f9c00086a9ba93a557006902f81778e825d62b667b13abc"
   }
  }
 },
 "nbformat": 4,
 "nbformat_minor": 2
}
