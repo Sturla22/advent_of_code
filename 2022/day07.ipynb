{
 "cells": [
  {
   "cell_type": "code",
   "execution_count": 4,
   "metadata": {},
   "outputs": [
    {
     "data": {
      "text/plain": [
       "1743217"
      ]
     },
     "execution_count": 4,
     "metadata": {},
     "output_type": "execute_result"
    }
   ],
   "source": [
    "import pathlib\n",
    "\n",
    "example_input = \"\"\"$ cd /\n",
    "$ ls\n",
    "dir a\n",
    "14848514 b.txt\n",
    "8504156 c.dat\n",
    "dir d\n",
    "$ cd a\n",
    "$ ls\n",
    "dir e\n",
    "29116 f\n",
    "2557 g\n",
    "62596 h.lst\n",
    "$ cd e\n",
    "$ ls\n",
    "584 i\n",
    "$ cd ..\n",
    "$ cd ..\n",
    "$ cd d\n",
    "$ ls\n",
    "4060174 j\n",
    "8033020 d.log\n",
    "5626152 d.ext\n",
    "7214296 k\"\"\"\n",
    "\n",
    "class Node:\n",
    "    def __init__(self, name):\n",
    "        self.name = name\n",
    "        self.children = set()\n",
    "        self.size = 0\n",
    "        self.parent = None\n",
    "    def __str__(self):\n",
    "        return f\"Node({self.name=}, {self.size})\"\n",
    "    def add_child(self, node):\n",
    "        node.parent = self\n",
    "        self.children.add(node)\n",
    "        return node\n",
    "    def add_size(self, size):\n",
    "        self.size += size\n",
    "    def get_size(self):\n",
    "        total = self.size\n",
    "        for child in self.children:\n",
    "            total += child.get_size()\n",
    "        return total\n",
    "    def get_subnodes(self):\n",
    "        subnodes = list(self.children)\n",
    "        for child in self.children:\n",
    "            subnodes.extend(child.get_subnodes())\n",
    "        return subnodes\n",
    "\n",
    "def p1(data: str):\n",
    "    root = parse(data)\n",
    "\n",
    "    total = 0\n",
    "    for node in root.get_subnodes():\n",
    "        if node.get_size() < 100000:\n",
    "            total += node.get_size()\n",
    "    return total\n",
    "\n",
    "def parse(data):\n",
    "    root = Node(\"/\")\n",
    "    current = root\n",
    "    for command_results in data.split(\"$ \"):\n",
    "        if command_results:\n",
    "            lines = command_results.splitlines()\n",
    "            if len(lines) > 1:\n",
    "                command, *ls_results = lines\n",
    "                assert command == \"ls\"\n",
    "                for f in ls_results:\n",
    "                    if f.split(\" \")[0].isnumeric():\n",
    "                        current.add_size(int(f.split(\" \")[0]))\n",
    "            else:\n",
    "                command, cd_arg = lines[0].split(\" \")\n",
    "                assert command == \"cd\"\n",
    "                if cd_arg == \"..\":\n",
    "                    current = current.parent\n",
    "                elif cd_arg != \"/\":\n",
    "                    current = current.add_child(Node(cd_arg))\n",
    "    return root\n",
    "\n",
    "\n",
    "assert (res := p1(example_input)) == 95437, f\"{res=}\"\n",
    "\n",
    "p1(pathlib.Path(\"day07.txt\").read_text())"
   ]
  },
  {
   "cell_type": "code",
   "execution_count": 9,
   "metadata": {},
   "outputs": [
    {
     "data": {
      "text/plain": [
       "8319096"
      ]
     },
     "execution_count": 9,
     "metadata": {},
     "output_type": "execute_result"
    }
   ],
   "source": [
    "def p2(data: str):\n",
    "    root = parse(data)\n",
    "    available = 70000000\n",
    "    needed = 30000000\n",
    "    used = root.get_size()\n",
    "    unused = available - used\n",
    "    to_delete = needed - unused\n",
    "\n",
    "    candidates = []\n",
    "    for node in root.get_subnodes():\n",
    "        size = node.get_size()\n",
    "        if size >= to_delete:\n",
    "            candidates.append(size)\n",
    "    return min(candidates)\n",
    "\n",
    "\n",
    "assert (res := p2(example_input)) == 24933642, f\"{res=}\"\n",
    "\n",
    "p2(pathlib.Path(\"day07.txt\").read_text())"
   ]
  }
 ],
 "metadata": {
  "kernelspec": {
   "display_name": "Python 3.10.8 64-bit (microsoft store)",
   "language": "python",
   "name": "python3"
  },
  "language_info": {
   "codemirror_mode": {
    "name": "ipython",
    "version": 3
   },
   "file_extension": ".py",
   "mimetype": "text/x-python",
   "name": "python",
   "nbconvert_exporter": "python",
   "pygments_lexer": "ipython3",
   "version": "3.10.8"
  },
  "orig_nbformat": 4,
  "vscode": {
   "interpreter": {
    "hash": "b577571d720b04035f9c00086a9ba93a557006902f81778e825d62b667b13abc"
   }
  }
 },
 "nbformat": 4,
 "nbformat_minor": 2
}
