{
 "cells": [
  {
   "cell_type": "code",
   "execution_count": 34,
   "metadata": {},
   "outputs": [],
   "source": [
    "import pathlib\n",
    "\n",
    "example_input = \"\"\"vJrwpWtwJgWrhcsFMMfFFhFp\n",
    "jqHRNqRjqzjGDLGLrsFMfFZSrLrFZsSL\n",
    "PmmdzqPrVvPwwTWBwg\n",
    "wMqvLMZHhHMvwLHjbvcjnnSBnvTQFn\n",
    "ttgJtRGJQctTZtZT\n",
    "CrZsJsPPZsGzwwsLwLmpwMDw\"\"\"\n",
    "\n",
    "def priority(c):\n",
    "    v = ord(c)\n",
    "    if c.isupper():\n",
    "        return (v - 65) + 27\n",
    "    return (v - 97) + 1\n",
    "\n",
    "def calculate_priority_sum(input_data):\n",
    "    return sum([priority((set(line[:len(line)//2]) & set(line[len(line)//2:])).pop()) for line in input_data.splitlines()])\n",
    "\n",
    "assert calculate_priority_sum(example_input) == 157\n",
    "\n",
    "assert calculate_priority_sum(pathlib.Path('day03.txt').read_text()) == 8072\n"
   ]
  },
  {
   "cell_type": "code",
   "execution_count": 36,
   "metadata": {},
   "outputs": [
    {
     "data": {
      "text/plain": [
       "2567"
      ]
     },
     "execution_count": 36,
     "metadata": {},
     "output_type": "execute_result"
    }
   ],
   "source": [
    "import operator\n",
    "from functools import reduce\n",
    "def parse(input_data):\n",
    "    lines = input_data.splitlines()\n",
    "    triplets = []\n",
    "    s = 0\n",
    "    e = 3\n",
    "    while e <= len(lines):\n",
    "        triplets.append(lines[s:e])\n",
    "        s+=3\n",
    "        e+=3\n",
    "    return triplets\n",
    "\n",
    "def d3_p2(input_data):\n",
    "    return sum([priority(reduce(operator.__and__, map(set, group)).pop()) for group in parse(input_data)])\n",
    "\n",
    "assert d3_p2(example_input) == 70\n",
    "\n",
    "d3_p2(pathlib.Path('day03.txt').read_text())\n",
    "    \n",
    "        "
   ]
  }
 ],
 "metadata": {
  "interpreter": {
   "hash": "e7370f93d1d0cde622a1f8e1c04877d8463912d04d973331ad4851f04de6915a"
  },
  "kernelspec": {
   "display_name": "Python 3.9.7 64-bit",
   "language": "python",
   "name": "python3"
  },
  "language_info": {
   "codemirror_mode": {
    "name": "ipython",
    "version": 3
   },
   "file_extension": ".py",
   "mimetype": "text/x-python",
   "name": "python",
   "nbconvert_exporter": "python",
   "pygments_lexer": "ipython3",
   "version": "3.9.7"
  },
  "orig_nbformat": 4
 },
 "nbformat": 4,
 "nbformat_minor": 2
}
